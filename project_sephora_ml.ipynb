{
 "cells": [
  {
   "cell_type": "markdown",
   "metadata": {},
   "source": [
    "## Loading Packages and Files"
   ]
  },
  {
   "cell_type": "code",
   "execution_count": 1,
   "metadata": {},
   "outputs": [],
   "source": [
    "import pandas as pd\n",
    "import plotly.express as px\n",
    "import matplotlib.pyplot as plt\n",
    "import seaborn as sns"
   ]
  },
  {
   "cell_type": "markdown",
   "metadata": {},
   "source": [
    "## EDA\n",
    "### ***Sephora Products***"
   ]
  },
  {
   "cell_type": "code",
   "execution_count": 2,
   "metadata": {},
   "outputs": [
    {
     "data": {
      "text/html": [
       "<div>\n",
       "<style scoped>\n",
       "    .dataframe tbody tr th:only-of-type {\n",
       "        vertical-align: middle;\n",
       "    }\n",
       "\n",
       "    .dataframe tbody tr th {\n",
       "        vertical-align: top;\n",
       "    }\n",
       "\n",
       "    .dataframe thead th {\n",
       "        text-align: right;\n",
       "    }\n",
       "</style>\n",
       "<table border=\"1\" class=\"dataframe\">\n",
       "  <thead>\n",
       "    <tr style=\"text-align: right;\">\n",
       "      <th></th>\n",
       "      <th>product_id</th>\n",
       "      <th>product_name</th>\n",
       "      <th>brand_id</th>\n",
       "      <th>brand_name</th>\n",
       "      <th>loves_count</th>\n",
       "      <th>rating</th>\n",
       "      <th>reviews</th>\n",
       "      <th>size</th>\n",
       "      <th>variation_type</th>\n",
       "      <th>variation_value</th>\n",
       "      <th>...</th>\n",
       "      <th>online_only</th>\n",
       "      <th>out_of_stock</th>\n",
       "      <th>sephora_exclusive</th>\n",
       "      <th>highlights</th>\n",
       "      <th>primary_category</th>\n",
       "      <th>secondary_category</th>\n",
       "      <th>tertiary_category</th>\n",
       "      <th>child_count</th>\n",
       "      <th>child_max_price</th>\n",
       "      <th>child_min_price</th>\n",
       "    </tr>\n",
       "  </thead>\n",
       "  <tbody>\n",
       "    <tr>\n",
       "      <th>0</th>\n",
       "      <td>P473671</td>\n",
       "      <td>Fragrance Discovery Set</td>\n",
       "      <td>6342</td>\n",
       "      <td>19-69</td>\n",
       "      <td>6320</td>\n",
       "      <td>3.6364</td>\n",
       "      <td>11.0</td>\n",
       "      <td>NaN</td>\n",
       "      <td>NaN</td>\n",
       "      <td>NaN</td>\n",
       "      <td>...</td>\n",
       "      <td>1</td>\n",
       "      <td>0</td>\n",
       "      <td>0</td>\n",
       "      <td>['Unisex/ Genderless Scent', 'Warm &amp;Spicy Scen...</td>\n",
       "      <td>Fragrance</td>\n",
       "      <td>Value &amp; Gift Sets</td>\n",
       "      <td>Perfume Gift Sets</td>\n",
       "      <td>0</td>\n",
       "      <td>NaN</td>\n",
       "      <td>NaN</td>\n",
       "    </tr>\n",
       "    <tr>\n",
       "      <th>1</th>\n",
       "      <td>P473668</td>\n",
       "      <td>La Habana Eau de Parfum</td>\n",
       "      <td>6342</td>\n",
       "      <td>19-69</td>\n",
       "      <td>3827</td>\n",
       "      <td>4.1538</td>\n",
       "      <td>13.0</td>\n",
       "      <td>3.4 oz/ 100 mL</td>\n",
       "      <td>Size + Concentration + Formulation</td>\n",
       "      <td>3.4 oz/ 100 mL</td>\n",
       "      <td>...</td>\n",
       "      <td>1</td>\n",
       "      <td>0</td>\n",
       "      <td>0</td>\n",
       "      <td>['Unisex/ Genderless Scent', 'Layerable Scent'...</td>\n",
       "      <td>Fragrance</td>\n",
       "      <td>Women</td>\n",
       "      <td>Perfume</td>\n",
       "      <td>2</td>\n",
       "      <td>85.0</td>\n",
       "      <td>30.0</td>\n",
       "    </tr>\n",
       "  </tbody>\n",
       "</table>\n",
       "<p>2 rows × 27 columns</p>\n",
       "</div>"
      ],
      "text/plain": [
       "  product_id             product_name  brand_id brand_name  loves_count  \\\n",
       "0    P473671  Fragrance Discovery Set      6342      19-69         6320   \n",
       "1    P473668  La Habana Eau de Parfum      6342      19-69         3827   \n",
       "\n",
       "   rating  reviews            size                      variation_type  \\\n",
       "0  3.6364     11.0             NaN                                 NaN   \n",
       "1  4.1538     13.0  3.4 oz/ 100 mL  Size + Concentration + Formulation   \n",
       "\n",
       "  variation_value  ... online_only out_of_stock  sephora_exclusive  \\\n",
       "0             NaN  ...           1            0                  0   \n",
       "1  3.4 oz/ 100 mL  ...           1            0                  0   \n",
       "\n",
       "                                          highlights  primary_category  \\\n",
       "0  ['Unisex/ Genderless Scent', 'Warm &Spicy Scen...         Fragrance   \n",
       "1  ['Unisex/ Genderless Scent', 'Layerable Scent'...         Fragrance   \n",
       "\n",
       "   secondary_category  tertiary_category  child_count  child_max_price  \\\n",
       "0   Value & Gift Sets  Perfume Gift Sets            0              NaN   \n",
       "1               Women            Perfume            2             85.0   \n",
       "\n",
       "   child_min_price  \n",
       "0              NaN  \n",
       "1             30.0  \n",
       "\n",
       "[2 rows x 27 columns]"
      ]
     },
     "execution_count": 2,
     "metadata": {},
     "output_type": "execute_result"
    }
   ],
   "source": [
    "df_products = pd.read_csv('product_info.csv')\n",
    "df_products.head(2)"
   ]
  },
  {
   "cell_type": "code",
   "execution_count": 3,
   "metadata": {},
   "outputs": [
    {
     "name": "stdout",
     "output_type": "stream",
     "text": [
      "<class 'pandas.core.frame.DataFrame'>\n",
      "RangeIndex: 8494 entries, 0 to 8493\n",
      "Data columns (total 27 columns):\n",
      " #   Column              Non-Null Count  Dtype  \n",
      "---  ------              --------------  -----  \n",
      " 0   product_id          8494 non-null   object \n",
      " 1   product_name        8494 non-null   object \n",
      " 2   brand_id            8494 non-null   int64  \n",
      " 3   brand_name          8494 non-null   object \n",
      " 4   loves_count         8494 non-null   int64  \n",
      " 5   rating              8216 non-null   float64\n",
      " 6   reviews             8216 non-null   float64\n",
      " 7   size                6863 non-null   object \n",
      " 8   variation_type      7050 non-null   object \n",
      " 9   variation_value     6896 non-null   object \n",
      " 10  variation_desc      1250 non-null   object \n",
      " 11  ingredients         7549 non-null   object \n",
      " 12  price_usd           8494 non-null   float64\n",
      " 13  value_price_usd     451 non-null    float64\n",
      " 14  sale_price_usd      270 non-null    float64\n",
      " 15  limited_edition     8494 non-null   int64  \n",
      " 16  new                 8494 non-null   int64  \n",
      " 17  online_only         8494 non-null   int64  \n",
      " 18  out_of_stock        8494 non-null   int64  \n",
      " 19  sephora_exclusive   8494 non-null   int64  \n",
      " 20  highlights          6287 non-null   object \n",
      " 21  primary_category    8494 non-null   object \n",
      " 22  secondary_category  8486 non-null   object \n",
      " 23  tertiary_category   7504 non-null   object \n",
      " 24  child_count         8494 non-null   int64  \n",
      " 25  child_max_price     2754 non-null   float64\n",
      " 26  child_min_price     2754 non-null   float64\n",
      "dtypes: float64(7), int64(8), object(12)\n",
      "memory usage: 1.7+ MB\n"
     ]
    }
   ],
   "source": [
    "df_products.info()"
   ]
  },
  {
   "cell_type": "markdown",
   "metadata": {},
   "source": [
    "<em>Observations :</em>\n",
    "- We need to change brand_id type (int -> obj)\n",
    "- check ingredients list of each product\n",
    "- drop unnecessary columns for the analysis\n",
    "- filter to only Skincare products\n"
   ]
  },
  {
   "cell_type": "code",
   "execution_count": 4,
   "metadata": {},
   "outputs": [],
   "source": [
    "df_products = df_products[df_products.primary_category == \"Skincare\"]\n",
    "df_products.drop(columns=['primary_category','value_price_usd','sale_price_usd','child_count','child_max_price','child_min_price','variation_type','variation_value','variation_desc','size', 'highlights'], inplace=True)"
   ]
  },
  {
   "cell_type": "code",
   "execution_count": 5,
   "metadata": {},
   "outputs": [
    {
     "name": "stdout",
     "output_type": "stream",
     "text": [
      "Rows : 2420 \n",
      "Cols : 16\n"
     ]
    }
   ],
   "source": [
    "print(f'Rows : {df_products.shape[0]} \\nCols : {df_products.shape[1]}')"
   ]
  },
  {
   "cell_type": "code",
   "execution_count": 6,
   "metadata": {},
   "outputs": [],
   "source": [
    "df_products.brand_id = df_products['brand_id'].astype(str)"
   ]
  },
  {
   "cell_type": "code",
   "execution_count": 7,
   "metadata": {},
   "outputs": [],
   "source": [
    "df_products = df_products[(df_products.ingredients.notnull()) & (df_products['reviews'].notnull())]"
   ]
  },
  {
   "cell_type": "code",
   "execution_count": 8,
   "metadata": {},
   "outputs": [
    {
     "name": "stdout",
     "output_type": "stream",
     "text": [
      "Column 'product_id' has 0 null values of 2224 values.\n",
      "Column 'product_name' has 0 null values of 2224 values.\n",
      "Column 'brand_id' has 0 null values of 2224 values.\n",
      "Column 'brand_name' has 0 null values of 2224 values.\n",
      "Column 'loves_count' has 0 null values of 2224 values.\n",
      "Column 'rating' has 0 null values of 2224 values.\n",
      "Column 'reviews' has 0 null values of 2224 values.\n",
      "Column 'ingredients' has 0 null values of 2224 values.\n",
      "Column 'price_usd' has 0 null values of 2224 values.\n",
      "Column 'limited_edition' has 0 null values of 2224 values.\n",
      "Column 'new' has 0 null values of 2224 values.\n",
      "Column 'online_only' has 0 null values of 2224 values.\n",
      "Column 'out_of_stock' has 0 null values of 2224 values.\n",
      "Column 'sephora_exclusive' has 0 null values of 2224 values.\n",
      "Column 'secondary_category' has 0 null values of 2224 values.\n",
      "Column 'tertiary_category' has 341 null values of 2224 values.\n"
     ]
    }
   ],
   "source": [
    "null_values = df_products.isnull().sum()\n",
    "for column, count in null_values.items():\n",
    "    print(f\"Column '{column}' has {count} null values of {len(df_products)} values.\")"
   ]
  },
  {
   "cell_type": "code",
   "execution_count": 9,
   "metadata": {},
   "outputs": [],
   "source": [
    "df_by_category = df_products[['secondary_category','tertiary_category']].groupby(by=['secondary_category','tertiary_category']).size().reset_index(name='count')"
   ]
  },
  {
   "cell_type": "code",
   "execution_count": 10,
   "metadata": {},
   "outputs": [
    {
     "data": {
      "text/html": [
       "<div>\n",
       "<style scoped>\n",
       "    .dataframe tbody tr th:only-of-type {\n",
       "        vertical-align: middle;\n",
       "    }\n",
       "\n",
       "    .dataframe tbody tr th {\n",
       "        vertical-align: top;\n",
       "    }\n",
       "\n",
       "    .dataframe thead th {\n",
       "        text-align: right;\n",
       "    }\n",
       "</style>\n",
       "<table border=\"1\" class=\"dataframe\">\n",
       "  <thead>\n",
       "    <tr style=\"text-align: right;\">\n",
       "      <th></th>\n",
       "      <th>secondary_category</th>\n",
       "      <th>tertiary_category</th>\n",
       "      <th>count</th>\n",
       "    </tr>\n",
       "  </thead>\n",
       "  <tbody>\n",
       "    <tr>\n",
       "      <th>0</th>\n",
       "      <td>Cleansers</td>\n",
       "      <td>Blotting Papers</td>\n",
       "      <td>1</td>\n",
       "    </tr>\n",
       "    <tr>\n",
       "      <th>1</th>\n",
       "      <td>Cleansers</td>\n",
       "      <td>Exfoliators</td>\n",
       "      <td>41</td>\n",
       "    </tr>\n",
       "    <tr>\n",
       "      <th>2</th>\n",
       "      <td>Cleansers</td>\n",
       "      <td>Face Wash &amp; Cleansers</td>\n",
       "      <td>212</td>\n",
       "    </tr>\n",
       "    <tr>\n",
       "      <th>3</th>\n",
       "      <td>Cleansers</td>\n",
       "      <td>Face Wipes</td>\n",
       "      <td>5</td>\n",
       "    </tr>\n",
       "    <tr>\n",
       "      <th>4</th>\n",
       "      <td>Cleansers</td>\n",
       "      <td>Makeup Removers</td>\n",
       "      <td>8</td>\n",
       "    </tr>\n",
       "    <tr>\n",
       "      <th>5</th>\n",
       "      <td>Cleansers</td>\n",
       "      <td>Toners</td>\n",
       "      <td>77</td>\n",
       "    </tr>\n",
       "    <tr>\n",
       "      <th>6</th>\n",
       "      <td>Eye Care</td>\n",
       "      <td>Eye Creams &amp; Treatments</td>\n",
       "      <td>168</td>\n",
       "    </tr>\n",
       "    <tr>\n",
       "      <th>7</th>\n",
       "      <td>Eye Care</td>\n",
       "      <td>Eye Masks</td>\n",
       "      <td>14</td>\n",
       "    </tr>\n",
       "    <tr>\n",
       "      <th>8</th>\n",
       "      <td>High Tech Tools</td>\n",
       "      <td>Anti-Aging</td>\n",
       "      <td>19</td>\n",
       "    </tr>\n",
       "    <tr>\n",
       "      <th>9</th>\n",
       "      <td>High Tech Tools</td>\n",
       "      <td>Teeth Whitening</td>\n",
       "      <td>5</td>\n",
       "    </tr>\n",
       "    <tr>\n",
       "      <th>10</th>\n",
       "      <td>Masks</td>\n",
       "      <td>Face Masks</td>\n",
       "      <td>131</td>\n",
       "    </tr>\n",
       "    <tr>\n",
       "      <th>11</th>\n",
       "      <td>Masks</td>\n",
       "      <td>Sheet Masks</td>\n",
       "      <td>29</td>\n",
       "    </tr>\n",
       "    <tr>\n",
       "      <th>12</th>\n",
       "      <td>Moisturizers</td>\n",
       "      <td>BB &amp; CC Creams</td>\n",
       "      <td>4</td>\n",
       "    </tr>\n",
       "    <tr>\n",
       "      <th>13</th>\n",
       "      <td>Moisturizers</td>\n",
       "      <td>Decollete &amp; Neck Creams</td>\n",
       "      <td>9</td>\n",
       "    </tr>\n",
       "    <tr>\n",
       "      <th>14</th>\n",
       "      <td>Moisturizers</td>\n",
       "      <td>Face Oils</td>\n",
       "      <td>63</td>\n",
       "    </tr>\n",
       "    <tr>\n",
       "      <th>15</th>\n",
       "      <td>Moisturizers</td>\n",
       "      <td>Mists &amp; Essences</td>\n",
       "      <td>60</td>\n",
       "    </tr>\n",
       "    <tr>\n",
       "      <th>16</th>\n",
       "      <td>Moisturizers</td>\n",
       "      <td>Moisturizers</td>\n",
       "      <td>372</td>\n",
       "    </tr>\n",
       "    <tr>\n",
       "      <th>17</th>\n",
       "      <td>Moisturizers</td>\n",
       "      <td>Night Creams</td>\n",
       "      <td>17</td>\n",
       "    </tr>\n",
       "    <tr>\n",
       "      <th>18</th>\n",
       "      <td>Self Tanners</td>\n",
       "      <td>For Body</td>\n",
       "      <td>29</td>\n",
       "    </tr>\n",
       "    <tr>\n",
       "      <th>19</th>\n",
       "      <td>Self Tanners</td>\n",
       "      <td>For Face</td>\n",
       "      <td>18</td>\n",
       "    </tr>\n",
       "    <tr>\n",
       "      <th>20</th>\n",
       "      <td>Shop by Concern</td>\n",
       "      <td>Anti-Aging</td>\n",
       "      <td>1</td>\n",
       "    </tr>\n",
       "    <tr>\n",
       "      <th>21</th>\n",
       "      <td>Sunscreen</td>\n",
       "      <td>Body Sunscreen</td>\n",
       "      <td>9</td>\n",
       "    </tr>\n",
       "    <tr>\n",
       "      <th>22</th>\n",
       "      <td>Sunscreen</td>\n",
       "      <td>Face Sunscreen</td>\n",
       "      <td>93</td>\n",
       "    </tr>\n",
       "    <tr>\n",
       "      <th>23</th>\n",
       "      <td>Treatments</td>\n",
       "      <td>Blemish &amp; Acne Treatments</td>\n",
       "      <td>33</td>\n",
       "    </tr>\n",
       "    <tr>\n",
       "      <th>24</th>\n",
       "      <td>Treatments</td>\n",
       "      <td>Face Serums</td>\n",
       "      <td>365</td>\n",
       "    </tr>\n",
       "    <tr>\n",
       "      <th>25</th>\n",
       "      <td>Treatments</td>\n",
       "      <td>Facial Peels</td>\n",
       "      <td>49</td>\n",
       "    </tr>\n",
       "    <tr>\n",
       "      <th>26</th>\n",
       "      <td>Wellness</td>\n",
       "      <td>Beauty Supplements</td>\n",
       "      <td>40</td>\n",
       "    </tr>\n",
       "    <tr>\n",
       "      <th>27</th>\n",
       "      <td>Wellness</td>\n",
       "      <td>Facial Rollers</td>\n",
       "      <td>5</td>\n",
       "    </tr>\n",
       "    <tr>\n",
       "      <th>28</th>\n",
       "      <td>Wellness</td>\n",
       "      <td>Holistic Wellness</td>\n",
       "      <td>6</td>\n",
       "    </tr>\n",
       "  </tbody>\n",
       "</table>\n",
       "</div>"
      ],
      "text/plain": [
       "   secondary_category          tertiary_category  count\n",
       "0           Cleansers            Blotting Papers      1\n",
       "1           Cleansers                Exfoliators     41\n",
       "2           Cleansers      Face Wash & Cleansers    212\n",
       "3           Cleansers                 Face Wipes      5\n",
       "4           Cleansers            Makeup Removers      8\n",
       "5           Cleansers                     Toners     77\n",
       "6            Eye Care    Eye Creams & Treatments    168\n",
       "7            Eye Care                  Eye Masks     14\n",
       "8     High Tech Tools                 Anti-Aging     19\n",
       "9     High Tech Tools            Teeth Whitening      5\n",
       "10              Masks                 Face Masks    131\n",
       "11              Masks                Sheet Masks     29\n",
       "12       Moisturizers             BB & CC Creams      4\n",
       "13       Moisturizers    Decollete & Neck Creams      9\n",
       "14       Moisturizers                  Face Oils     63\n",
       "15       Moisturizers           Mists & Essences     60\n",
       "16       Moisturizers               Moisturizers    372\n",
       "17       Moisturizers               Night Creams     17\n",
       "18       Self Tanners                   For Body     29\n",
       "19       Self Tanners                   For Face     18\n",
       "20    Shop by Concern                 Anti-Aging      1\n",
       "21          Sunscreen             Body Sunscreen      9\n",
       "22          Sunscreen             Face Sunscreen     93\n",
       "23         Treatments  Blemish & Acne Treatments     33\n",
       "24         Treatments                Face Serums    365\n",
       "25         Treatments               Facial Peels     49\n",
       "26           Wellness         Beauty Supplements     40\n",
       "27           Wellness             Facial Rollers      5\n",
       "28           Wellness          Holistic Wellness      6"
      ]
     },
     "execution_count": 10,
     "metadata": {},
     "output_type": "execute_result"
    }
   ],
   "source": [
    "df_by_category"
   ]
  },
  {
   "cell_type": "code",
   "execution_count": 11,
   "metadata": {},
   "outputs": [
    {
     "data": {
      "application/vnd.plotly.v1+json": {
       "config": {
        "plotlyServerURL": "https://plot.ly"
       },
       "data": [
        {
         "branchvalues": "total",
         "domain": {
          "x": [
           0,
           1
          ],
          "y": [
           0,
           1
          ]
         },
         "hovertemplate": "labels=%{label}<br>count=%{value}<br>parent=%{parent}<br>id=%{id}<extra></extra>",
         "ids": [
          "High Tech Tools/Anti-Aging",
          "Shop by Concern/Anti-Aging",
          "Moisturizers/BB & CC Creams",
          "Wellness/Beauty Supplements",
          "Treatments/Blemish & Acne Treatments",
          "Cleansers/Blotting Papers",
          "Sunscreen/Body Sunscreen",
          "Moisturizers/Decollete & Neck Creams",
          "Cleansers/Exfoliators",
          "Eye Care/Eye Creams & Treatments",
          "Eye Care/Eye Masks",
          "Masks/Face Masks",
          "Moisturizers/Face Oils",
          "Treatments/Face Serums",
          "Sunscreen/Face Sunscreen",
          "Cleansers/Face Wash & Cleansers",
          "Cleansers/Face Wipes",
          "Treatments/Facial Peels",
          "Wellness/Facial Rollers",
          "Self Tanners/For Body",
          "Self Tanners/For Face",
          "Wellness/Holistic Wellness",
          "Cleansers/Makeup Removers",
          "Moisturizers/Mists & Essences",
          "Moisturizers/Moisturizers",
          "Moisturizers/Night Creams",
          "Masks/Sheet Masks",
          "High Tech Tools/Teeth Whitening",
          "Cleansers/Toners",
          "Cleansers",
          "Eye Care",
          "High Tech Tools",
          "Masks",
          "Moisturizers",
          "Self Tanners",
          "Shop by Concern",
          "Sunscreen",
          "Treatments",
          "Wellness"
         ],
         "labels": [
          "Anti-Aging",
          "Anti-Aging",
          "BB & CC Creams",
          "Beauty Supplements",
          "Blemish & Acne Treatments",
          "Blotting Papers",
          "Body Sunscreen",
          "Decollete & Neck Creams",
          "Exfoliators",
          "Eye Creams & Treatments",
          "Eye Masks",
          "Face Masks",
          "Face Oils",
          "Face Serums",
          "Face Sunscreen",
          "Face Wash & Cleansers",
          "Face Wipes",
          "Facial Peels",
          "Facial Rollers",
          "For Body",
          "For Face",
          "Holistic Wellness",
          "Makeup Removers",
          "Mists & Essences",
          "Moisturizers",
          "Night Creams",
          "Sheet Masks",
          "Teeth Whitening",
          "Toners",
          "Cleansers",
          "Eye Care",
          "High Tech Tools",
          "Masks",
          "Moisturizers",
          "Self Tanners",
          "Shop by Concern",
          "Sunscreen",
          "Treatments",
          "Wellness"
         ],
         "name": "",
         "parents": [
          "High Tech Tools",
          "Shop by Concern",
          "Moisturizers",
          "Wellness",
          "Treatments",
          "Cleansers",
          "Sunscreen",
          "Moisturizers",
          "Cleansers",
          "Eye Care",
          "Eye Care",
          "Masks",
          "Moisturizers",
          "Treatments",
          "Sunscreen",
          "Cleansers",
          "Cleansers",
          "Treatments",
          "Wellness",
          "Self Tanners",
          "Self Tanners",
          "Wellness",
          "Cleansers",
          "Moisturizers",
          "Moisturizers",
          "Moisturizers",
          "Masks",
          "High Tech Tools",
          "Cleansers",
          "",
          "",
          "",
          "",
          "",
          "",
          "",
          "",
          "",
          ""
         ],
         "type": "sunburst",
         "values": [
          19,
          1,
          4,
          40,
          33,
          1,
          9,
          9,
          41,
          168,
          14,
          131,
          63,
          365,
          93,
          212,
          5,
          49,
          5,
          29,
          18,
          6,
          8,
          60,
          372,
          17,
          29,
          5,
          77,
          344,
          182,
          24,
          160,
          525,
          47,
          1,
          102,
          447,
          51
         ]
        }
       ],
       "layout": {
        "legend": {
         "tracegroupgap": 0
        },
        "margin": {
         "t": 60
        },
        "template": {
         "data": {
          "bar": [
           {
            "error_x": {
             "color": "#2a3f5f"
            },
            "error_y": {
             "color": "#2a3f5f"
            },
            "marker": {
             "line": {
              "color": "#E5ECF6",
              "width": 0.5
             },
             "pattern": {
              "fillmode": "overlay",
              "size": 10,
              "solidity": 0.2
             }
            },
            "type": "bar"
           }
          ],
          "barpolar": [
           {
            "marker": {
             "line": {
              "color": "#E5ECF6",
              "width": 0.5
             },
             "pattern": {
              "fillmode": "overlay",
              "size": 10,
              "solidity": 0.2
             }
            },
            "type": "barpolar"
           }
          ],
          "carpet": [
           {
            "aaxis": {
             "endlinecolor": "#2a3f5f",
             "gridcolor": "white",
             "linecolor": "white",
             "minorgridcolor": "white",
             "startlinecolor": "#2a3f5f"
            },
            "baxis": {
             "endlinecolor": "#2a3f5f",
             "gridcolor": "white",
             "linecolor": "white",
             "minorgridcolor": "white",
             "startlinecolor": "#2a3f5f"
            },
            "type": "carpet"
           }
          ],
          "choropleth": [
           {
            "colorbar": {
             "outlinewidth": 0,
             "ticks": ""
            },
            "type": "choropleth"
           }
          ],
          "contour": [
           {
            "colorbar": {
             "outlinewidth": 0,
             "ticks": ""
            },
            "colorscale": [
             [
              0,
              "#0d0887"
             ],
             [
              0.1111111111111111,
              "#46039f"
             ],
             [
              0.2222222222222222,
              "#7201a8"
             ],
             [
              0.3333333333333333,
              "#9c179e"
             ],
             [
              0.4444444444444444,
              "#bd3786"
             ],
             [
              0.5555555555555556,
              "#d8576b"
             ],
             [
              0.6666666666666666,
              "#ed7953"
             ],
             [
              0.7777777777777778,
              "#fb9f3a"
             ],
             [
              0.8888888888888888,
              "#fdca26"
             ],
             [
              1,
              "#f0f921"
             ]
            ],
            "type": "contour"
           }
          ],
          "contourcarpet": [
           {
            "colorbar": {
             "outlinewidth": 0,
             "ticks": ""
            },
            "type": "contourcarpet"
           }
          ],
          "heatmap": [
           {
            "colorbar": {
             "outlinewidth": 0,
             "ticks": ""
            },
            "colorscale": [
             [
              0,
              "#0d0887"
             ],
             [
              0.1111111111111111,
              "#46039f"
             ],
             [
              0.2222222222222222,
              "#7201a8"
             ],
             [
              0.3333333333333333,
              "#9c179e"
             ],
             [
              0.4444444444444444,
              "#bd3786"
             ],
             [
              0.5555555555555556,
              "#d8576b"
             ],
             [
              0.6666666666666666,
              "#ed7953"
             ],
             [
              0.7777777777777778,
              "#fb9f3a"
             ],
             [
              0.8888888888888888,
              "#fdca26"
             ],
             [
              1,
              "#f0f921"
             ]
            ],
            "type": "heatmap"
           }
          ],
          "heatmapgl": [
           {
            "colorbar": {
             "outlinewidth": 0,
             "ticks": ""
            },
            "colorscale": [
             [
              0,
              "#0d0887"
             ],
             [
              0.1111111111111111,
              "#46039f"
             ],
             [
              0.2222222222222222,
              "#7201a8"
             ],
             [
              0.3333333333333333,
              "#9c179e"
             ],
             [
              0.4444444444444444,
              "#bd3786"
             ],
             [
              0.5555555555555556,
              "#d8576b"
             ],
             [
              0.6666666666666666,
              "#ed7953"
             ],
             [
              0.7777777777777778,
              "#fb9f3a"
             ],
             [
              0.8888888888888888,
              "#fdca26"
             ],
             [
              1,
              "#f0f921"
             ]
            ],
            "type": "heatmapgl"
           }
          ],
          "histogram": [
           {
            "marker": {
             "pattern": {
              "fillmode": "overlay",
              "size": 10,
              "solidity": 0.2
             }
            },
            "type": "histogram"
           }
          ],
          "histogram2d": [
           {
            "colorbar": {
             "outlinewidth": 0,
             "ticks": ""
            },
            "colorscale": [
             [
              0,
              "#0d0887"
             ],
             [
              0.1111111111111111,
              "#46039f"
             ],
             [
              0.2222222222222222,
              "#7201a8"
             ],
             [
              0.3333333333333333,
              "#9c179e"
             ],
             [
              0.4444444444444444,
              "#bd3786"
             ],
             [
              0.5555555555555556,
              "#d8576b"
             ],
             [
              0.6666666666666666,
              "#ed7953"
             ],
             [
              0.7777777777777778,
              "#fb9f3a"
             ],
             [
              0.8888888888888888,
              "#fdca26"
             ],
             [
              1,
              "#f0f921"
             ]
            ],
            "type": "histogram2d"
           }
          ],
          "histogram2dcontour": [
           {
            "colorbar": {
             "outlinewidth": 0,
             "ticks": ""
            },
            "colorscale": [
             [
              0,
              "#0d0887"
             ],
             [
              0.1111111111111111,
              "#46039f"
             ],
             [
              0.2222222222222222,
              "#7201a8"
             ],
             [
              0.3333333333333333,
              "#9c179e"
             ],
             [
              0.4444444444444444,
              "#bd3786"
             ],
             [
              0.5555555555555556,
              "#d8576b"
             ],
             [
              0.6666666666666666,
              "#ed7953"
             ],
             [
              0.7777777777777778,
              "#fb9f3a"
             ],
             [
              0.8888888888888888,
              "#fdca26"
             ],
             [
              1,
              "#f0f921"
             ]
            ],
            "type": "histogram2dcontour"
           }
          ],
          "mesh3d": [
           {
            "colorbar": {
             "outlinewidth": 0,
             "ticks": ""
            },
            "type": "mesh3d"
           }
          ],
          "parcoords": [
           {
            "line": {
             "colorbar": {
              "outlinewidth": 0,
              "ticks": ""
             }
            },
            "type": "parcoords"
           }
          ],
          "pie": [
           {
            "automargin": true,
            "type": "pie"
           }
          ],
          "scatter": [
           {
            "fillpattern": {
             "fillmode": "overlay",
             "size": 10,
             "solidity": 0.2
            },
            "type": "scatter"
           }
          ],
          "scatter3d": [
           {
            "line": {
             "colorbar": {
              "outlinewidth": 0,
              "ticks": ""
             }
            },
            "marker": {
             "colorbar": {
              "outlinewidth": 0,
              "ticks": ""
             }
            },
            "type": "scatter3d"
           }
          ],
          "scattercarpet": [
           {
            "marker": {
             "colorbar": {
              "outlinewidth": 0,
              "ticks": ""
             }
            },
            "type": "scattercarpet"
           }
          ],
          "scattergeo": [
           {
            "marker": {
             "colorbar": {
              "outlinewidth": 0,
              "ticks": ""
             }
            },
            "type": "scattergeo"
           }
          ],
          "scattergl": [
           {
            "marker": {
             "colorbar": {
              "outlinewidth": 0,
              "ticks": ""
             }
            },
            "type": "scattergl"
           }
          ],
          "scattermapbox": [
           {
            "marker": {
             "colorbar": {
              "outlinewidth": 0,
              "ticks": ""
             }
            },
            "type": "scattermapbox"
           }
          ],
          "scatterpolar": [
           {
            "marker": {
             "colorbar": {
              "outlinewidth": 0,
              "ticks": ""
             }
            },
            "type": "scatterpolar"
           }
          ],
          "scatterpolargl": [
           {
            "marker": {
             "colorbar": {
              "outlinewidth": 0,
              "ticks": ""
             }
            },
            "type": "scatterpolargl"
           }
          ],
          "scatterternary": [
           {
            "marker": {
             "colorbar": {
              "outlinewidth": 0,
              "ticks": ""
             }
            },
            "type": "scatterternary"
           }
          ],
          "surface": [
           {
            "colorbar": {
             "outlinewidth": 0,
             "ticks": ""
            },
            "colorscale": [
             [
              0,
              "#0d0887"
             ],
             [
              0.1111111111111111,
              "#46039f"
             ],
             [
              0.2222222222222222,
              "#7201a8"
             ],
             [
              0.3333333333333333,
              "#9c179e"
             ],
             [
              0.4444444444444444,
              "#bd3786"
             ],
             [
              0.5555555555555556,
              "#d8576b"
             ],
             [
              0.6666666666666666,
              "#ed7953"
             ],
             [
              0.7777777777777778,
              "#fb9f3a"
             ],
             [
              0.8888888888888888,
              "#fdca26"
             ],
             [
              1,
              "#f0f921"
             ]
            ],
            "type": "surface"
           }
          ],
          "table": [
           {
            "cells": {
             "fill": {
              "color": "#EBF0F8"
             },
             "line": {
              "color": "white"
             }
            },
            "header": {
             "fill": {
              "color": "#C8D4E3"
             },
             "line": {
              "color": "white"
             }
            },
            "type": "table"
           }
          ]
         },
         "layout": {
          "annotationdefaults": {
           "arrowcolor": "#2a3f5f",
           "arrowhead": 0,
           "arrowwidth": 1
          },
          "autotypenumbers": "strict",
          "coloraxis": {
           "colorbar": {
            "outlinewidth": 0,
            "ticks": ""
           }
          },
          "colorscale": {
           "diverging": [
            [
             0,
             "#8e0152"
            ],
            [
             0.1,
             "#c51b7d"
            ],
            [
             0.2,
             "#de77ae"
            ],
            [
             0.3,
             "#f1b6da"
            ],
            [
             0.4,
             "#fde0ef"
            ],
            [
             0.5,
             "#f7f7f7"
            ],
            [
             0.6,
             "#e6f5d0"
            ],
            [
             0.7,
             "#b8e186"
            ],
            [
             0.8,
             "#7fbc41"
            ],
            [
             0.9,
             "#4d9221"
            ],
            [
             1,
             "#276419"
            ]
           ],
           "sequential": [
            [
             0,
             "#0d0887"
            ],
            [
             0.1111111111111111,
             "#46039f"
            ],
            [
             0.2222222222222222,
             "#7201a8"
            ],
            [
             0.3333333333333333,
             "#9c179e"
            ],
            [
             0.4444444444444444,
             "#bd3786"
            ],
            [
             0.5555555555555556,
             "#d8576b"
            ],
            [
             0.6666666666666666,
             "#ed7953"
            ],
            [
             0.7777777777777778,
             "#fb9f3a"
            ],
            [
             0.8888888888888888,
             "#fdca26"
            ],
            [
             1,
             "#f0f921"
            ]
           ],
           "sequentialminus": [
            [
             0,
             "#0d0887"
            ],
            [
             0.1111111111111111,
             "#46039f"
            ],
            [
             0.2222222222222222,
             "#7201a8"
            ],
            [
             0.3333333333333333,
             "#9c179e"
            ],
            [
             0.4444444444444444,
             "#bd3786"
            ],
            [
             0.5555555555555556,
             "#d8576b"
            ],
            [
             0.6666666666666666,
             "#ed7953"
            ],
            [
             0.7777777777777778,
             "#fb9f3a"
            ],
            [
             0.8888888888888888,
             "#fdca26"
            ],
            [
             1,
             "#f0f921"
            ]
           ]
          },
          "colorway": [
           "#636efa",
           "#EF553B",
           "#00cc96",
           "#ab63fa",
           "#FFA15A",
           "#19d3f3",
           "#FF6692",
           "#B6E880",
           "#FF97FF",
           "#FECB52"
          ],
          "font": {
           "color": "#2a3f5f"
          },
          "geo": {
           "bgcolor": "white",
           "lakecolor": "white",
           "landcolor": "#E5ECF6",
           "showlakes": true,
           "showland": true,
           "subunitcolor": "white"
          },
          "hoverlabel": {
           "align": "left"
          },
          "hovermode": "closest",
          "mapbox": {
           "style": "light"
          },
          "paper_bgcolor": "white",
          "plot_bgcolor": "#E5ECF6",
          "polar": {
           "angularaxis": {
            "gridcolor": "white",
            "linecolor": "white",
            "ticks": ""
           },
           "bgcolor": "#E5ECF6",
           "radialaxis": {
            "gridcolor": "white",
            "linecolor": "white",
            "ticks": ""
           }
          },
          "scene": {
           "xaxis": {
            "backgroundcolor": "#E5ECF6",
            "gridcolor": "white",
            "gridwidth": 2,
            "linecolor": "white",
            "showbackground": true,
            "ticks": "",
            "zerolinecolor": "white"
           },
           "yaxis": {
            "backgroundcolor": "#E5ECF6",
            "gridcolor": "white",
            "gridwidth": 2,
            "linecolor": "white",
            "showbackground": true,
            "ticks": "",
            "zerolinecolor": "white"
           },
           "zaxis": {
            "backgroundcolor": "#E5ECF6",
            "gridcolor": "white",
            "gridwidth": 2,
            "linecolor": "white",
            "showbackground": true,
            "ticks": "",
            "zerolinecolor": "white"
           }
          },
          "shapedefaults": {
           "line": {
            "color": "#2a3f5f"
           }
          },
          "ternary": {
           "aaxis": {
            "gridcolor": "white",
            "linecolor": "white",
            "ticks": ""
           },
           "baxis": {
            "gridcolor": "white",
            "linecolor": "white",
            "ticks": ""
           },
           "bgcolor": "#E5ECF6",
           "caxis": {
            "gridcolor": "white",
            "linecolor": "white",
            "ticks": ""
           }
          },
          "title": {
           "x": 0.05
          },
          "xaxis": {
           "automargin": true,
           "gridcolor": "white",
           "linecolor": "white",
           "ticks": "",
           "title": {
            "standoff": 15
           },
           "zerolinecolor": "white",
           "zerolinewidth": 2
          },
          "yaxis": {
           "automargin": true,
           "gridcolor": "white",
           "linecolor": "white",
           "ticks": "",
           "title": {
            "standoff": 15
           },
           "zerolinecolor": "white",
           "zerolinewidth": 2
          }
         }
        }
       }
      }
     },
     "metadata": {},
     "output_type": "display_data"
    }
   ],
   "source": [
    "px.sunburst(df_by_category,values='count',path=['secondary_category','tertiary_category'])"
   ]
  },
  {
   "cell_type": "markdown",
   "metadata": {},
   "source": [
    "### Sephora Products Reviews"
   ]
  },
  {
   "cell_type": "code",
   "execution_count": 12,
   "metadata": {},
   "outputs": [
    {
     "data": {
      "text/html": [
       "<div>\n",
       "<style scoped>\n",
       "    .dataframe tbody tr th:only-of-type {\n",
       "        vertical-align: middle;\n",
       "    }\n",
       "\n",
       "    .dataframe tbody tr th {\n",
       "        vertical-align: top;\n",
       "    }\n",
       "\n",
       "    .dataframe thead th {\n",
       "        text-align: right;\n",
       "    }\n",
       "</style>\n",
       "<table border=\"1\" class=\"dataframe\">\n",
       "  <thead>\n",
       "    <tr style=\"text-align: right;\">\n",
       "      <th></th>\n",
       "      <th>Unnamed: 0</th>\n",
       "      <th>author_id</th>\n",
       "      <th>rating</th>\n",
       "      <th>is_recommended</th>\n",
       "      <th>helpfulness</th>\n",
       "      <th>total_feedback_count</th>\n",
       "      <th>total_neg_feedback_count</th>\n",
       "      <th>total_pos_feedback_count</th>\n",
       "      <th>submission_time</th>\n",
       "      <th>review_text</th>\n",
       "      <th>review_title</th>\n",
       "      <th>skin_tone</th>\n",
       "      <th>eye_color</th>\n",
       "      <th>skin_type</th>\n",
       "      <th>hair_color</th>\n",
       "      <th>product_id</th>\n",
       "      <th>product_name</th>\n",
       "      <th>brand_name</th>\n",
       "      <th>price_usd</th>\n",
       "    </tr>\n",
       "  </thead>\n",
       "  <tbody>\n",
       "    <tr>\n",
       "      <th>0</th>\n",
       "      <td>0</td>\n",
       "      <td>1741593524</td>\n",
       "      <td>5</td>\n",
       "      <td>1.0</td>\n",
       "      <td>1.0</td>\n",
       "      <td>2</td>\n",
       "      <td>0</td>\n",
       "      <td>2</td>\n",
       "      <td>2023-02-01</td>\n",
       "      <td>I use this with the Nudestix “Citrus Clean Bal...</td>\n",
       "      <td>Taught me how to double cleanse!</td>\n",
       "      <td>NaN</td>\n",
       "      <td>brown</td>\n",
       "      <td>dry</td>\n",
       "      <td>black</td>\n",
       "      <td>P504322</td>\n",
       "      <td>Gentle Hydra-Gel Face Cleanser</td>\n",
       "      <td>NUDESTIX</td>\n",
       "      <td>19.0</td>\n",
       "    </tr>\n",
       "    <tr>\n",
       "      <th>1</th>\n",
       "      <td>1</td>\n",
       "      <td>31423088263</td>\n",
       "      <td>1</td>\n",
       "      <td>0.0</td>\n",
       "      <td>NaN</td>\n",
       "      <td>0</td>\n",
       "      <td>0</td>\n",
       "      <td>0</td>\n",
       "      <td>2023-03-21</td>\n",
       "      <td>I bought this lip mask after reading the revie...</td>\n",
       "      <td>Disappointed</td>\n",
       "      <td>NaN</td>\n",
       "      <td>NaN</td>\n",
       "      <td>NaN</td>\n",
       "      <td>NaN</td>\n",
       "      <td>P420652</td>\n",
       "      <td>Lip Sleeping Mask Intense Hydration with Vitam...</td>\n",
       "      <td>LANEIGE</td>\n",
       "      <td>24.0</td>\n",
       "    </tr>\n",
       "  </tbody>\n",
       "</table>\n",
       "</div>"
      ],
      "text/plain": [
       "   Unnamed: 0    author_id  rating  is_recommended  helpfulness  \\\n",
       "0           0   1741593524       5             1.0          1.0   \n",
       "1           1  31423088263       1             0.0          NaN   \n",
       "\n",
       "   total_feedback_count  total_neg_feedback_count  total_pos_feedback_count  \\\n",
       "0                     2                         0                         2   \n",
       "1                     0                         0                         0   \n",
       "\n",
       "  submission_time                                        review_text  \\\n",
       "0      2023-02-01  I use this with the Nudestix “Citrus Clean Bal...   \n",
       "1      2023-03-21  I bought this lip mask after reading the revie...   \n",
       "\n",
       "                       review_title skin_tone eye_color skin_type hair_color  \\\n",
       "0  Taught me how to double cleanse!       NaN     brown       dry      black   \n",
       "1                      Disappointed       NaN       NaN       NaN        NaN   \n",
       "\n",
       "  product_id                                       product_name brand_name  \\\n",
       "0    P504322                     Gentle Hydra-Gel Face Cleanser   NUDESTIX   \n",
       "1    P420652  Lip Sleeping Mask Intense Hydration with Vitam...    LANEIGE   \n",
       "\n",
       "   price_usd  \n",
       "0       19.0  \n",
       "1       24.0  "
      ]
     },
     "execution_count": 12,
     "metadata": {},
     "output_type": "execute_result"
    }
   ],
   "source": [
    "df_1 = pd.read_csv('reviews_0-250.csv', low_memory=False)\n",
    "df_2 = pd.read_csv('reviews_250-500.csv', low_memory=False)\n",
    "df_3 = pd.read_csv('reviews_500-750.csv', low_memory=False)\n",
    "df_4 = pd.read_csv('reviews_750-1250.csv', low_memory=False)\n",
    "df_5 = pd.read_csv('reviews_1250-end.csv', low_memory=False)\n",
    "df_reviews = pd.concat([df_1,df_2,df_3,df_4,df_5],axis=0)\n",
    "df_reviews.head(2)"
   ]
  },
  {
   "cell_type": "code",
   "execution_count": 13,
   "metadata": {},
   "outputs": [
    {
     "name": "stdout",
     "output_type": "stream",
     "text": [
      "<class 'pandas.core.frame.DataFrame'>\n",
      "Index: 1094411 entries, 0 to 49976\n",
      "Data columns (total 19 columns):\n",
      " #   Column                    Non-Null Count    Dtype  \n",
      "---  ------                    --------------    -----  \n",
      " 0   Unnamed: 0                1094411 non-null  int64  \n",
      " 1   author_id                 1094411 non-null  object \n",
      " 2   rating                    1094411 non-null  int64  \n",
      " 3   is_recommended            926423 non-null   float64\n",
      " 4   helpfulness               532819 non-null   float64\n",
      " 5   total_feedback_count      1094411 non-null  int64  \n",
      " 6   total_neg_feedback_count  1094411 non-null  int64  \n",
      " 7   total_pos_feedback_count  1094411 non-null  int64  \n",
      " 8   submission_time           1094411 non-null  object \n",
      " 9   review_text               1092967 non-null  object \n",
      " 10  review_title              783757 non-null   object \n",
      " 11  skin_tone                 923872 non-null   object \n",
      " 12  eye_color                 884783 non-null   object \n",
      " 13  skin_type                 982854 non-null   object \n",
      " 14  hair_color                867643 non-null   object \n",
      " 15  product_id                1094411 non-null  object \n",
      " 16  product_name              1094411 non-null  object \n",
      " 17  brand_name                1094411 non-null  object \n",
      " 18  price_usd                 1094411 non-null  float64\n",
      "dtypes: float64(3), int64(5), object(11)\n",
      "memory usage: 167.0+ MB\n"
     ]
    }
   ],
   "source": [
    "df_reviews.info()"
   ]
  },
  {
   "cell_type": "markdown",
   "metadata": {},
   "source": [
    "<em>Observations :</em>\n",
    "- drop useless columns\n",
    "- check null values"
   ]
  },
  {
   "cell_type": "code",
   "execution_count": 14,
   "metadata": {},
   "outputs": [],
   "source": [
    "# df_reviews.rename(columns={'Unnamed: 0':'index'}, inplace=True)\n",
    "df_reviews.drop(columns=['Unnamed: 0','total_feedback_count','total_neg_feedback_count','total_pos_feedback_count','skin_tone','eye_color','skin_type','hair_color'], inplace=True)"
   ]
  },
  {
   "cell_type": "code",
   "execution_count": 15,
   "metadata": {},
   "outputs": [],
   "source": [
    "df_reviews = df_reviews[df_reviews.review_title.notnull()]"
   ]
  },
  {
   "cell_type": "code",
   "execution_count": 16,
   "metadata": {},
   "outputs": [
    {
     "name": "stdout",
     "output_type": "stream",
     "text": [
      "Column 'author_id' has 0 null values of 783757 values.\n",
      "Column 'rating' has 0 null values of 783757 values.\n",
      "Column 'is_recommended' has 147934 null values of 783757 values.\n",
      "Column 'helpfulness' has 389383 null values of 783757 values.\n",
      "Column 'submission_time' has 0 null values of 783757 values.\n",
      "Column 'review_text' has 0 null values of 783757 values.\n",
      "Column 'review_title' has 0 null values of 783757 values.\n",
      "Column 'product_id' has 0 null values of 783757 values.\n",
      "Column 'product_name' has 0 null values of 783757 values.\n",
      "Column 'brand_name' has 0 null values of 783757 values.\n",
      "Column 'price_usd' has 0 null values of 783757 values.\n"
     ]
    }
   ],
   "source": [
    "null_values = df_reviews.isnull().sum()\n",
    "for column, count in null_values.items():\n",
    "    print(f\"Column '{column}' has {count} null values of {len(df_reviews)} values.\")"
   ]
  },
  {
   "cell_type": "code",
   "execution_count": 17,
   "metadata": {},
   "outputs": [
    {
     "data": {
      "text/html": [
       "<div>\n",
       "<style scoped>\n",
       "    .dataframe tbody tr th:only-of-type {\n",
       "        vertical-align: middle;\n",
       "    }\n",
       "\n",
       "    .dataframe tbody tr th {\n",
       "        vertical-align: top;\n",
       "    }\n",
       "\n",
       "    .dataframe thead th {\n",
       "        text-align: right;\n",
       "    }\n",
       "</style>\n",
       "<table border=\"1\" class=\"dataframe\">\n",
       "  <thead>\n",
       "    <tr style=\"text-align: right;\">\n",
       "      <th></th>\n",
       "      <th>rating</th>\n",
       "      <th>is_recommended</th>\n",
       "      <th>count</th>\n",
       "    </tr>\n",
       "  </thead>\n",
       "  <tbody>\n",
       "    <tr>\n",
       "      <th>8</th>\n",
       "      <td>5</td>\n",
       "      <td>0.0</td>\n",
       "      <td>518</td>\n",
       "    </tr>\n",
       "    <tr>\n",
       "      <th>9</th>\n",
       "      <td>5</td>\n",
       "      <td>1.0</td>\n",
       "      <td>412278</td>\n",
       "    </tr>\n",
       "    <tr>\n",
       "      <th>6</th>\n",
       "      <td>4</td>\n",
       "      <td>0.0</td>\n",
       "      <td>3719</td>\n",
       "    </tr>\n",
       "    <tr>\n",
       "      <th>7</th>\n",
       "      <td>4</td>\n",
       "      <td>1.0</td>\n",
       "      <td>101246</td>\n",
       "    </tr>\n",
       "    <tr>\n",
       "      <th>4</th>\n",
       "      <td>3</td>\n",
       "      <td>0.0</td>\n",
       "      <td>31037</td>\n",
       "    </tr>\n",
       "    <tr>\n",
       "      <th>5</th>\n",
       "      <td>3</td>\n",
       "      <td>1.0</td>\n",
       "      <td>16211</td>\n",
       "    </tr>\n",
       "    <tr>\n",
       "      <th>2</th>\n",
       "      <td>2</td>\n",
       "      <td>0.0</td>\n",
       "      <td>31195</td>\n",
       "    </tr>\n",
       "    <tr>\n",
       "      <th>3</th>\n",
       "      <td>2</td>\n",
       "      <td>1.0</td>\n",
       "      <td>1172</td>\n",
       "    </tr>\n",
       "    <tr>\n",
       "      <th>0</th>\n",
       "      <td>1</td>\n",
       "      <td>0.0</td>\n",
       "      <td>38176</td>\n",
       "    </tr>\n",
       "    <tr>\n",
       "      <th>1</th>\n",
       "      <td>1</td>\n",
       "      <td>1.0</td>\n",
       "      <td>271</td>\n",
       "    </tr>\n",
       "  </tbody>\n",
       "</table>\n",
       "</div>"
      ],
      "text/plain": [
       "   rating  is_recommended   count\n",
       "8       5             0.0     518\n",
       "9       5             1.0  412278\n",
       "6       4             0.0    3719\n",
       "7       4             1.0  101246\n",
       "4       3             0.0   31037\n",
       "5       3             1.0   16211\n",
       "2       2             0.0   31195\n",
       "3       2             1.0    1172\n",
       "0       1             0.0   38176\n",
       "1       1             1.0     271"
      ]
     },
     "execution_count": 17,
     "metadata": {},
     "output_type": "execute_result"
    }
   ],
   "source": [
    "df_reviews[['rating','is_recommended']].groupby(by=['rating','is_recommended']).size().reset_index(name='count').sort_values(by='rating',ascending=False)"
   ]
  },
  {
   "cell_type": "markdown",
   "metadata": {},
   "source": [
    "<em>Observations :</em>\n",
    "- Giving 5 stars for the rating doesn't mean to be recommended\n"
   ]
  },
  {
   "cell_type": "code",
   "execution_count": 18,
   "metadata": {},
   "outputs": [
    {
     "data": {
      "text/plain": [
       "Text(0.5, 0.98, 'Top 10 Products')"
      ]
     },
     "execution_count": 18,
     "metadata": {},
     "output_type": "execute_result"
    },
    {
     "data": {
      "image/png": "[encoded data removed]",
      "text/plain": [
       "<Figure size 1500x1000 with 2 Axes>"
      ]
     },
     "metadata": {},
     "output_type": "display_data"
    }
   ],
   "source": [
    "calcul_top = df_reviews.groupby(['product_id','product_name'])\n",
    " \n",
    "fig, (ax1,ax2) = plt.subplots(nrows=2,ncols=1,figsize= (15,10))\n",
    "fig.subplots_adjust(hspace=0.5)\n",
    " \n",
    "most_reccomended = calcul_top.sum(numeric_only=True)['is_recommended'].reset_index().sort_values('is_recommended',ascending=False).head(10)\n",
    "sns.barplot(most_reccomended,x='is_recommended',y='product_name',ax=ax1)\n",
    "ax1.set_title(\"TOP 10 recommended product\")\n",
    "ax1.set_xlabel(\"Total recommended\")\n",
    " \n",
    "most_helpfulness = calcul_top.sum(numeric_only=True)['helpfulness'].reset_index().sort_values('helpfulness',ascending=False).head(10)\n",
    "sns.barplot(most_helpfulness,x='helpfulness',y='product_name',ax=ax2)\n",
    "ax2.set_title(\"TOP 10 helpfulness product\")\n",
    "ax2.set_xlabel(\"Total helpfulness\")\n",
    " \n",
    "plt.suptitle(\"Top 10 Products\",fontsize=30)"
   ]
  },
  {
   "cell_type": "code",
   "execution_count": 19,
   "metadata": {},
   "outputs": [],
   "source": [
    "# def filter_products(df, product_ids):\n",
    "#     return df[df['product_id'].isin(product_ids)]\n",
    "\n",
    "# # Using the function to filter df_review based on list_products_review_null\n",
    "# filtered_df = filter_products(df_review, list_products_review_null)\n",
    "\n",
    "# filtered_df"
   ]
  },
  {
   "cell_type": "code",
   "execution_count": 20,
   "metadata": {},
   "outputs": [
    {
     "data": {
      "text/html": [
       "<div>\n",
       "<style scoped>\n",
       "    .dataframe tbody tr th:only-of-type {\n",
       "        vertical-align: middle;\n",
       "    }\n",
       "\n",
       "    .dataframe tbody tr th {\n",
       "        vertical-align: top;\n",
       "    }\n",
       "\n",
       "    .dataframe thead th {\n",
       "        text-align: right;\n",
       "    }\n",
       "</style>\n",
       "<table border=\"1\" class=\"dataframe\">\n",
       "  <thead>\n",
       "    <tr style=\"text-align: right;\">\n",
       "      <th></th>\n",
       "      <th>author_id</th>\n",
       "      <th>rating_x</th>\n",
       "      <th>is_recommended</th>\n",
       "      <th>helpfulness</th>\n",
       "      <th>submission_time</th>\n",
       "      <th>review_text</th>\n",
       "      <th>review_title</th>\n",
       "      <th>product_id</th>\n",
       "      <th>product_name</th>\n",
       "      <th>brand_name</th>\n",
       "      <th>...</th>\n",
       "      <th>reviews</th>\n",
       "      <th>ingredients</th>\n",
       "      <th>price_usd_y</th>\n",
       "      <th>limited_edition</th>\n",
       "      <th>new</th>\n",
       "      <th>online_only</th>\n",
       "      <th>out_of_stock</th>\n",
       "      <th>sephora_exclusive</th>\n",
       "      <th>secondary_category</th>\n",
       "      <th>tertiary_category</th>\n",
       "    </tr>\n",
       "  </thead>\n",
       "  <tbody>\n",
       "    <tr>\n",
       "      <th>0</th>\n",
       "      <td>1741593524</td>\n",
       "      <td>5</td>\n",
       "      <td>1.0</td>\n",
       "      <td>1.0</td>\n",
       "      <td>2023-02-01</td>\n",
       "      <td>I use this with the Nudestix “Citrus Clean Bal...</td>\n",
       "      <td>Taught me how to double cleanse!</td>\n",
       "      <td>P504322</td>\n",
       "      <td>Gentle Hydra-Gel Face Cleanser</td>\n",
       "      <td>NUDESTIX</td>\n",
       "      <td>...</td>\n",
       "      <td>1.0</td>\n",
       "      <td>['Water (Aqua), Dipropylene Glycol, Peg-6 Capr...</td>\n",
       "      <td>19.0</td>\n",
       "      <td>0</td>\n",
       "      <td>0</td>\n",
       "      <td>1</td>\n",
       "      <td>0</td>\n",
       "      <td>0</td>\n",
       "      <td>Cleansers</td>\n",
       "      <td>NaN</td>\n",
       "    </tr>\n",
       "    <tr>\n",
       "      <th>1</th>\n",
       "      <td>31423088263</td>\n",
       "      <td>1</td>\n",
       "      <td>0.0</td>\n",
       "      <td>NaN</td>\n",
       "      <td>2023-03-21</td>\n",
       "      <td>I bought this lip mask after reading the revie...</td>\n",
       "      <td>Disappointed</td>\n",
       "      <td>P420652</td>\n",
       "      <td>Lip Sleeping Mask Intense Hydration with Vitam...</td>\n",
       "      <td>LANEIGE</td>\n",
       "      <td>...</td>\n",
       "      <td>16118.0</td>\n",
       "      <td>['Diisostearyl Malate, Hydrogenated Polyisobut...</td>\n",
       "      <td>24.0</td>\n",
       "      <td>0</td>\n",
       "      <td>0</td>\n",
       "      <td>0</td>\n",
       "      <td>0</td>\n",
       "      <td>1</td>\n",
       "      <td>Lip Balms &amp; Treatments</td>\n",
       "      <td>NaN</td>\n",
       "    </tr>\n",
       "  </tbody>\n",
       "</table>\n",
       "<p>2 rows × 24 columns</p>\n",
       "</div>"
      ],
      "text/plain": [
       "     author_id  rating_x  is_recommended  helpfulness submission_time  \\\n",
       "0   1741593524         5             1.0          1.0      2023-02-01   \n",
       "1  31423088263         1             0.0          NaN      2023-03-21   \n",
       "\n",
       "                                         review_text  \\\n",
       "0  I use this with the Nudestix “Citrus Clean Bal...   \n",
       "1  I bought this lip mask after reading the revie...   \n",
       "\n",
       "                       review_title product_id  \\\n",
       "0  Taught me how to double cleanse!    P504322   \n",
       "1                      Disappointed    P420652   \n",
       "\n",
       "                                        product_name brand_name  ...  reviews  \\\n",
       "0                     Gentle Hydra-Gel Face Cleanser   NUDESTIX  ...      1.0   \n",
       "1  Lip Sleeping Mask Intense Hydration with Vitam...    LANEIGE  ...  16118.0   \n",
       "\n",
       "                                         ingredients  price_usd_y  \\\n",
       "0  ['Water (Aqua), Dipropylene Glycol, Peg-6 Capr...         19.0   \n",
       "1  ['Diisostearyl Malate, Hydrogenated Polyisobut...         24.0   \n",
       "\n",
       "   limited_edition  new online_only  out_of_stock  sephora_exclusive  \\\n",
       "0                0    0           1             0                  0   \n",
       "1                0    0           0             0                  1   \n",
       "\n",
       "       secondary_category  tertiary_category  \n",
       "0               Cleansers                NaN  \n",
       "1  Lip Balms & Treatments                NaN  \n",
       "\n",
       "[2 rows x 24 columns]"
      ]
     },
     "execution_count": 20,
     "metadata": {},
     "output_type": "execute_result"
    }
   ],
   "source": [
    "df = df_reviews.merge(df_products,how='inner',on=['product_id','product_name','brand_name'])\n",
    "df.head(2)"
   ]
  },
  {
   "cell_type": "code",
   "execution_count": 21,
   "metadata": {},
   "outputs": [
    {
     "data": {
      "text/plain": [
       "(767222, 24)"
      ]
     },
     "execution_count": 21,
     "metadata": {},
     "output_type": "execute_result"
    }
   ],
   "source": [
    "df.shape"
   ]
  },
  {
   "cell_type": "code",
   "execution_count": 22,
   "metadata": {},
   "outputs": [
    {
     "name": "stdout",
     "output_type": "stream",
     "text": [
      "Column 'author_id' has 0 null values of 767222 values.\n",
      "Column 'rating_x' has 0 null values of 767222 values.\n",
      "Column 'is_recommended' has 141530 null values of 767222 values.\n",
      "Column 'helpfulness' has 382219 null values of 767222 values.\n",
      "Column 'submission_time' has 0 null values of 767222 values.\n",
      "Column 'review_text' has 0 null values of 767222 values.\n",
      "Column 'review_title' has 0 null values of 767222 values.\n",
      "Column 'product_id' has 0 null values of 767222 values.\n",
      "Column 'product_name' has 0 null values of 767222 values.\n",
      "Column 'brand_name' has 0 null values of 767222 values.\n",
      "Column 'price_usd_x' has 0 null values of 767222 values.\n",
      "Column 'brand_id' has 0 null values of 767222 values.\n",
      "Column 'loves_count' has 0 null values of 767222 values.\n",
      "Column 'rating_y' has 0 null values of 767222 values.\n",
      "Column 'reviews' has 0 null values of 767222 values.\n",
      "Column 'ingredients' has 0 null values of 767222 values.\n",
      "Column 'price_usd_y' has 0 null values of 767222 values.\n",
      "Column 'limited_edition' has 0 null values of 767222 values.\n",
      "Column 'new' has 0 null values of 767222 values.\n",
      "Column 'online_only' has 0 null values of 767222 values.\n",
      "Column 'out_of_stock' has 0 null values of 767222 values.\n",
      "Column 'sephora_exclusive' has 0 null values of 767222 values.\n",
      "Column 'secondary_category' has 0 null values of 767222 values.\n",
      "Column 'tertiary_category' has 114140 null values of 767222 values.\n"
     ]
    }
   ],
   "source": [
    "null_values = df.isnull().sum()\n",
    "for column, count in null_values.items():\n",
    "    print(f\"Column '{column}' has {count} null values of {len(df)} values.\")"
   ]
  },
  {
   "cell_type": "code",
   "execution_count": 23,
   "metadata": {},
   "outputs": [],
   "source": [
    "df.drop(columns=['helpfulness','tertiary_category'], inplace=True)"
   ]
  },
  {
   "cell_type": "code",
   "execution_count": 24,
   "metadata": {},
   "outputs": [
    {
     "name": "stdout",
     "output_type": "stream",
     "text": [
      "Column 'author_id' has 0 null values of 625692 values.\n",
      "Column 'rating_x' has 0 null values of 625692 values.\n",
      "Column 'is_recommended' has 0 null values of 625692 values.\n",
      "Column 'submission_time' has 0 null values of 625692 values.\n",
      "Column 'review_text' has 0 null values of 625692 values.\n",
      "Column 'review_title' has 0 null values of 625692 values.\n",
      "Column 'product_id' has 0 null values of 625692 values.\n",
      "Column 'product_name' has 0 null values of 625692 values.\n",
      "Column 'brand_name' has 0 null values of 625692 values.\n",
      "Column 'price_usd_x' has 0 null values of 625692 values.\n",
      "Column 'brand_id' has 0 null values of 625692 values.\n",
      "Column 'loves_count' has 0 null values of 625692 values.\n",
      "Column 'rating_y' has 0 null values of 625692 values.\n",
      "Column 'reviews' has 0 null values of 625692 values.\n",
      "Column 'ingredients' has 0 null values of 625692 values.\n",
      "Column 'price_usd_y' has 0 null values of 625692 values.\n",
      "Column 'limited_edition' has 0 null values of 625692 values.\n",
      "Column 'new' has 0 null values of 625692 values.\n",
      "Column 'online_only' has 0 null values of 625692 values.\n",
      "Column 'out_of_stock' has 0 null values of 625692 values.\n",
      "Column 'sephora_exclusive' has 0 null values of 625692 values.\n",
      "Column 'secondary_category' has 0 null values of 625692 values.\n"
     ]
    }
   ],
   "source": [
    "df = df[df.is_recommended.notnull()]\n",
    "null_values = df.isnull().sum()\n",
    "for column, count in null_values.items():\n",
    "    print(f\"Column '{column}' has {count} null values of {len(df)} values.\")"
   ]
  },
  {
   "cell_type": "code",
   "execution_count": 25,
   "metadata": {},
   "outputs": [],
   "source": [
    "df.rename(columns={\"rating_x\":'rating_review','price_usd_x':'price_usd_review','rating_y':'rating_product','price_usd_y':'price_usd_product'},inplace=True)"
   ]
  },
  {
   "cell_type": "code",
   "execution_count": 26,
   "metadata": {},
   "outputs": [],
   "source": [
    "# sns.pairplot(df)"
   ]
  },
  {
   "cell_type": "code",
   "execution_count": 27,
   "metadata": {},
   "outputs": [
    {
     "data": {
      "text/html": [
       "<div>\n",
       "<style scoped>\n",
       "    .dataframe tbody tr th:only-of-type {\n",
       "        vertical-align: middle;\n",
       "    }\n",
       "\n",
       "    .dataframe tbody tr th {\n",
       "        vertical-align: top;\n",
       "    }\n",
       "\n",
       "    .dataframe thead th {\n",
       "        text-align: right;\n",
       "    }\n",
       "</style>\n",
       "<table border=\"1\" class=\"dataframe\">\n",
       "  <thead>\n",
       "    <tr style=\"text-align: right;\">\n",
       "      <th></th>\n",
       "      <th></th>\n",
       "      <th>new</th>\n",
       "      <th>online_only</th>\n",
       "      <th>out_of_stock</th>\n",
       "      <th>limited_edition</th>\n",
       "      <th>sephora_exclusive</th>\n",
       "    </tr>\n",
       "    <tr>\n",
       "      <th>rating_review</th>\n",
       "      <th>is_recommended</th>\n",
       "      <th></th>\n",
       "      <th></th>\n",
       "      <th></th>\n",
       "      <th></th>\n",
       "      <th></th>\n",
       "    </tr>\n",
       "  </thead>\n",
       "  <tbody>\n",
       "    <tr>\n",
       "      <th rowspan=\"2\" valign=\"top\">5</th>\n",
       "      <th>0.0</th>\n",
       "      <td>21</td>\n",
       "      <td>63</td>\n",
       "      <td>23</td>\n",
       "      <td>9</td>\n",
       "      <td>186</td>\n",
       "    </tr>\n",
       "    <tr>\n",
       "      <th>1.0</th>\n",
       "      <td>14386</td>\n",
       "      <td>41044</td>\n",
       "      <td>12211</td>\n",
       "      <td>7913</td>\n",
       "      <td>150008</td>\n",
       "    </tr>\n",
       "    <tr>\n",
       "      <th rowspan=\"2\" valign=\"top\">4</th>\n",
       "      <th>0.0</th>\n",
       "      <td>83</td>\n",
       "      <td>480</td>\n",
       "      <td>125</td>\n",
       "      <td>78</td>\n",
       "      <td>1178</td>\n",
       "    </tr>\n",
       "    <tr>\n",
       "      <th>1.0</th>\n",
       "      <td>2950</td>\n",
       "      <td>12566</td>\n",
       "      <td>3215</td>\n",
       "      <td>1662</td>\n",
       "      <td>34460</td>\n",
       "    </tr>\n",
       "    <tr>\n",
       "      <th rowspan=\"2\" valign=\"top\">3</th>\n",
       "      <th>0.0</th>\n",
       "      <td>644</td>\n",
       "      <td>3336</td>\n",
       "      <td>945</td>\n",
       "      <td>604</td>\n",
       "      <td>11419</td>\n",
       "    </tr>\n",
       "    <tr>\n",
       "      <th>1.0</th>\n",
       "      <td>411</td>\n",
       "      <td>1958</td>\n",
       "      <td>493</td>\n",
       "      <td>305</td>\n",
       "      <td>5693</td>\n",
       "    </tr>\n",
       "    <tr>\n",
       "      <th rowspan=\"2\" valign=\"top\">2</th>\n",
       "      <th>0.0</th>\n",
       "      <td>552</td>\n",
       "      <td>2701</td>\n",
       "      <td>951</td>\n",
       "      <td>609</td>\n",
       "      <td>12347</td>\n",
       "    </tr>\n",
       "    <tr>\n",
       "      <th>1.0</th>\n",
       "      <td>25</td>\n",
       "      <td>112</td>\n",
       "      <td>43</td>\n",
       "      <td>20</td>\n",
       "      <td>438</td>\n",
       "    </tr>\n",
       "    <tr>\n",
       "      <th rowspan=\"2\" valign=\"top\">1</th>\n",
       "      <th>0.0</th>\n",
       "      <td>555</td>\n",
       "      <td>2907</td>\n",
       "      <td>1285</td>\n",
       "      <td>671</td>\n",
       "      <td>14469</td>\n",
       "    </tr>\n",
       "    <tr>\n",
       "      <th>1.0</th>\n",
       "      <td>6</td>\n",
       "      <td>15</td>\n",
       "      <td>8</td>\n",
       "      <td>2</td>\n",
       "      <td>110</td>\n",
       "    </tr>\n",
       "  </tbody>\n",
       "</table>\n",
       "</div>"
      ],
      "text/plain": [
       "                                new  online_only  out_of_stock  \\\n",
       "rating_review is_recommended                                     \n",
       "5             0.0                21           63            23   \n",
       "              1.0             14386        41044         12211   \n",
       "4             0.0                83          480           125   \n",
       "              1.0              2950        12566          3215   \n",
       "3             0.0               644         3336           945   \n",
       "              1.0               411         1958           493   \n",
       "2             0.0               552         2701           951   \n",
       "              1.0                25          112            43   \n",
       "1             0.0               555         2907          1285   \n",
       "              1.0                 6           15             8   \n",
       "\n",
       "                              limited_edition  sephora_exclusive  \n",
       "rating_review is_recommended                                      \n",
       "5             0.0                           9                186  \n",
       "              1.0                        7913             150008  \n",
       "4             0.0                          78               1178  \n",
       "              1.0                        1662              34460  \n",
       "3             0.0                         604              11419  \n",
       "              1.0                         305               5693  \n",
       "2             0.0                         609              12347  \n",
       "              1.0                          20                438  \n",
       "1             0.0                         671              14469  \n",
       "              1.0                           2                110  "
      ]
     },
     "execution_count": 27,
     "metadata": {},
     "output_type": "execute_result"
    }
   ],
   "source": [
    "df[['rating_review','is_recommended','new','online_only','out_of_stock', 'limited_edition','sephora_exclusive']].groupby(by=['rating_review','is_recommended']).sum().sort_values('rating_review',ascending=False)"
   ]
  },
  {
   "cell_type": "code",
   "execution_count": 1,
   "metadata": {},
   "outputs": [
    {
     "ename": "NameError",
     "evalue": "name 'plt' is not defined",
     "output_type": "error",
     "traceback": [
      "\u001b[1;31m---------------------------------------------------------------------------\u001b[0m",
      "\u001b[1;31mNameError\u001b[0m                                 Traceback (most recent call last)",
      "Cell \u001b[1;32mIn[1], line 1\u001b[0m\n\u001b[1;32m----> 1\u001b[0m \u001b[43mplt\u001b[49m\u001b[38;5;241m.\u001b[39mbar(df[\u001b[38;5;124m'\u001b[39m\u001b[38;5;124mrating_review\u001b[39m\u001b[38;5;124m'\u001b[39m],df[\u001b[38;5;124m'\u001b[39m\u001b[38;5;124mprice_usd_review\u001b[39m\u001b[38;5;124m'\u001b[39m])\n",
      "\u001b[1;31mNameError\u001b[0m: name 'plt' is not defined"
     ]
    }
   ],
   "source": [
    "plt.bar(df['rating_review'],df['price_usd_review'])"
   ]
  },
  {
   "cell_type": "code",
   "execution_count": null,
   "metadata": {},
   "outputs": [],
   "source": []
  }
 ],
 "metadata": {
  "kernelspec": {
   "display_name": "school_env",
   "language": "python",
   "name": "python3"
  },
  "language_info": {
   "codemirror_mode": {
    "name": "ipython",
    "version": 3
   },
   "file_extension": ".py",
   "mimetype": "text/x-python",
   "name": "python",
   "nbconvert_exporter": "python",
   "pygments_lexer": "ipython3",
   "version": "3.12.2"
  }
 },
 "nbformat": 4,
 "nbformat_minor": 2
}
